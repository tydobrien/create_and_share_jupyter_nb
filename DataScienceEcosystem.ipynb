{
 "cells": [
  {
   "cell_type": "markdown",
   "id": "06eacdff-f81e-460c-b61c-76a9147f4916",
   "metadata": {},
   "source": [
    "# Data Science Tools and Ecosystem"
   ]
  },
  {
   "cell_type": "markdown",
   "id": "37e28862-7f1f-443e-8af7-4a20a09609bd",
   "metadata": {},
   "source": [
    "#### In this notebook, Data Science Tools and Ecosystem are summarized."
   ]
  },
  {
   "cell_type": "markdown",
   "id": "351f6e44-cbf4-429c-86bf-c30050169cde",
   "metadata": {},
   "source": [
    "**Objectives:**\n",
    "* Popular Languages used by Data Scientists\n",
    "* Common Libraries used by Data Scientists\n",
    "* Open Source Tools used by Data Scientists\n",
    "* Some examples evaluating arithmetic expressions"
   ]
  },
  {
   "cell_type": "markdown",
   "id": "b11e5e25-57fc-4385-97e9-881c45511cba",
   "metadata": {},
   "source": [
    "#### Some of the popular languages that Data Scientists use are:"
   ]
  },
  {
   "cell_type": "markdown",
   "id": "06efb375-695a-4c35-a9ff-93610be06b82",
   "metadata": {},
   "source": [
    "1) Python\n",
    "2) R\n",
    "3) SQL\n",
    "4) Java"
   ]
  },
  {
   "cell_type": "markdown",
   "id": "ca66d7b1-154e-4eaf-b666-7487ddd98ae4",
   "metadata": {},
   "source": [
    "#### Some of the commonly used data science libraries are:"
   ]
  },
  {
   "cell_type": "markdown",
   "id": "cbca730d-103d-4891-b8ea-db9ba7176f06",
   "metadata": {},
   "source": [
    "1) Matplotlib\n",
    "2) Pandas\n",
    "3) Keras\n",
    "4) TensorFlow"
   ]
  },
  {
   "cell_type": "markdown",
   "id": "aa1d392e-984a-45f6-bcd2-4d0480a30616",
   "metadata": {},
   "source": [
    "| Data Science Tools |\n",
    "| ---- |\n",
    "| Jupyter Labs |\n",
    "| Anaconda |\n",
    "| Apache Spark |"
   ]
  },
  {
   "cell_type": "markdown",
   "id": "716c5ee7-35c6-4d24-8675-709757be8a04",
   "metadata": {},
   "source": [
    "### Below are a few examples of evaluating arithmetic expressions in Python"
   ]
  },
  {
   "cell_type": "code",
   "execution_count": 9,
   "id": "526e5e50-4ea0-4e20-bd21-1e5e492a2efb",
   "metadata": {},
   "outputs": [
    {
     "data": {
      "text/plain": [
       "17"
      ]
     },
     "execution_count": 9,
     "metadata": {},
     "output_type": "execute_result"
    }
   ],
   "source": [
    "# This is a simple arithmetic expression to multiply then add integers\n",
    "(3*4)+5"
   ]
  },
  {
   "cell_type": "code",
   "execution_count": 15,
   "id": "9a10cbcb-cdd3-4a46-9513-f954bb50825a",
   "metadata": {},
   "outputs": [
    {
     "data": {
      "text/plain": [
       "3.3333333333333335"
      ]
     },
     "execution_count": 15,
     "metadata": {},
     "output_type": "execute_result"
    }
   ],
   "source": [
    "# This will convert 200 minutes to hours by dividing by 60\n",
    "200/60"
   ]
  },
  {
   "cell_type": "markdown",
   "id": "d473ce78-92c8-4353-9929-570a1326f4b0",
   "metadata": {},
   "source": [
    "## Author\n",
    "Ty O'Brien"
   ]
  }
 ],
 "metadata": {
  "kernelspec": {
   "display_name": "Python 3 (ipykernel)",
   "language": "python",
   "name": "python3"
  },
  "language_info": {
   "codemirror_mode": {
    "name": "ipython",
    "version": 3
   },
   "file_extension": ".py",
   "mimetype": "text/x-python",
   "name": "python",
   "nbconvert_exporter": "python",
   "pygments_lexer": "ipython3",
   "version": "3.12.4"
  }
 },
 "nbformat": 4,
 "nbformat_minor": 5
}
